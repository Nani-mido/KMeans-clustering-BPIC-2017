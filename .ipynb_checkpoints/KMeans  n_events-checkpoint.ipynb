{
 "cells": [
  {
   "cell_type": "code",
   "execution_count": 2,
   "metadata": {},
   "outputs": [],
   "source": [
    "import pandas as pd\n",
    "import time\n",
    "import numpy as np\n",
    "from ClusteringPredictiveModel_1 import ClusteringPredictiveModel # other one\n",
    "from sklearn.model_selection import train_test_split\n",
    "from sklearn.metrics import roc_auc_score\n",
    "from  matplotlib import pyplot\n",
    "from sklearn.ensemble import RandomForestClassifier\n",
    "from LastStateEncoder import LastStateEncoder"
   ]
  },
  {
   "cell_type": "code",
   "execution_count": 3,
   "metadata": {},
   "outputs": [],
   "source": [
    "data=pd.read_csv('BPIC 2017 just complete cases.csv',sep=';')"
   ]
  },
  {
   "cell_type": "code",
   "execution_count": 4,
   "metadata": {},
   "outputs": [],
   "source": [
    "n_clusters = 6"
   ]
  },
  {
   "cell_type": "code",
   "execution_count": 5,
   "metadata": {},
   "outputs": [],
   "source": [
    "#global case_id_col,event_col,timestamp_col,label_col,pos_label,numeric_cols,meta_event_data,other_col,variant_col\n",
    "\n",
    "case_id_col = \"Case ID\"\n",
    "event_col = \"Activity\"\n",
    "timestamp_col = [\"Complete Timestamp\"]\n",
    "label_col = 'lbl'\n",
    "pos_label = 'A_Pending'\n",
    "cat_cols = ['Resource','(case) LoanGoal','(case) ApplicationType'] \n",
    "numeric_cols = [ '(case) RequestedAmount',label_col]  \n",
    "meta_event_data=['Start Timestamp','EventOrigin','OfferID','Unnamed: 0','Transition','milli_seconds',\n",
    "          'EventID','lifecycle:transition','days','D_seconds',\n",
    "          'Accepted', 'Selected' ,\n",
    "          'FirstWithdrawalAmount', 'MonthlyCost', 'NumberOfTerms','outcome',\n",
    "          'Variant', 'Action', 'CreditScore','OfferedAmount'\n",
    "          ]\n",
    "other_col= '(case) RequestedAmount'\n",
    "variant_col='Variant index'"
   ]
  },
  {
   "cell_type": "code",
   "execution_count": 6,
   "metadata": {},
   "outputs": [],
   "source": [
    "data.drop(meta_event_data,axis=1,inplace=True)\n",
    "data.drop(variant_col,axis=1,inplace=True)"
   ]
  },
  {
   "cell_type": "code",
   "execution_count": 7,
   "metadata": {},
   "outputs": [
    {
     "name": "stderr",
     "output_type": "stream",
     "text": [
      "C:\\Users\\MSI\\Miniconda3\\envs\\dl-challenge\\lib\\site-packages\\sklearn\\model_selection\\_split.py:2026: FutureWarning: From version 0.21, test_size will always complement train_size unless both are specified.\n",
      "  FutureWarning)\n"
     ]
    }
   ],
   "source": [
    "# divide into train and test data\n",
    "np.random.seed(22)\n",
    "sample_cases_KMeans = np.random.choice(data[case_id_col].unique(), len(data['Case ID'].unique()))\n",
    "train_cases_KMeans, test_cases_KMeans = train_test_split(sample_cases_KMeans , train_size = 4.0/5, random_state = 22 )\n",
    "train_KMeans = data[data[case_id_col].isin(train_cases_KMeans)]\n",
    "test_KMeans = data[data[case_id_col].isin(test_cases_KMeans)]"
   ]
  },
  {
   "cell_type": "code",
   "execution_count": 8,
   "metadata": {},
   "outputs": [
    {
     "data": {
      "text/plain": [
       "<ClusteringPredictiveModel_1.ClusteringPredictiveModel at 0x1ad02466c88>"
      ]
     },
     "execution_count": 8,
     "metadata": {},
     "output_type": "execute_result"
    }
   ],
   "source": [
    "# fit model (cluster traces and build classifier for each cluster)\n",
    "model = ClusteringPredictiveModel(case_id_col, event_col, label_col, timestamp_col, cat_cols, numeric_cols, n_clusters=n_clusters, n_estimators=100, random_state=22, fillna=True)\n",
    "model.fit(train_KMeans)"
   ]
  },
  {
   "cell_type": "markdown",
   "metadata": {},
   "source": [
    "# this for cutting trace , you can skip to use complete traces"
   ]
  },
  {
   "cell_type": "code",
   "execution_count": 27,
   "metadata": {},
   "outputs": [],
   "source": [
    "# trim first n activity\n",
    "#######################\n",
    "\n",
    "n=12\n",
    "n_events=test_KMeans.groupby(['Case ID']).apply(lambda x: x.head(n)).droplevel(1)\n",
    "#n_events=pd.DataFrame(columns=test_KMeans.columns)\n",
    "#for i in test_cases_KMeans:\n",
    "    #cc=test_KMeans[test_KMeans['Case ID']==i]\n",
    "    #n_events=n_events.append(test_KMeans[test_KMeans['Case ID']==i][0:n])\n",
    "#n_events=test_KMeans[test_KMeans.index.isin(n_events.index) ]"
   ]
  },
  {
   "cell_type": "code",
   "execution_count": 120,
   "metadata": {},
   "outputs": [],
   "source": [
    "# events from '''''''  to '''''''\n",
    "#if not: from_event=A_Create Application\n",
    "\n",
    "from_event= 'A_Submitted'\n",
    "\n",
    "to_event  = 'A_Accepted'\n",
    "\n",
    "from_to=pd.DataFrame(columns=test_KMeans.columns)\n",
    "#idx=dd[dd['Activity'].values==from_event].index\n",
    "#idx2=dd[dd['Activity'].values==to_event].index  \n",
    "#cd=test_KMeans[test_KMeans.index.isin (range(idx[0],idx2[0]+1))]\n",
    "\n",
    "for i in test_cases_KMeans:\n",
    "    dd=test_KMeans[test_KMeans['Case ID']==i]\n",
    "    idx=dd[dd['Activity'].values==from_event].index\n",
    "    if not idx.any():\n",
    "        idx=dd[dd['Activity'].values=='A_Create Application'].index\n",
    "    idx2=dd[dd['Activity'].values==to_event].index \n",
    "    from_to=from_to.append(test_KMeans[test_KMeans.index.isin (range(idx[0],idx2[0]+1))])"
   ]
  },
  {
   "cell_type": "code",
   "execution_count": 121,
   "metadata": {},
   "outputs": [],
   "source": [
    "# events from '''''''  to '''''''\n",
    "#if not: from_event=A_Create Application\n",
    "\n",
    "from_event= 'A_Accepted'\n",
    "\n",
    "to_event  = 'O_Sent (mail and online)'\n",
    "\n",
    "#from_to=pd.DataFrame(columns=test_KMeans.columns)\n",
    "#idx=dd[dd['Activity'].values==from_event].index\n",
    "#idx2=dd[dd['Activity'].values==to_event].index  \n",
    "#cd=test_KMeans[test_KMeans.index.isin (range(idx[0],idx2[0]+1))]\n",
    "\n",
    "for i in test_cases_KMeans:\n",
    "    dd=test_KMeans[test_KMeans['Case ID']==i]\n",
    "    idx=dd[dd['Activity'].values==from_event].index+1\n",
    "    if not idx.any():\n",
    "        idx=dd[dd['Activity'].values=='A_Create Application'].index+1\n",
    "    idx2=dd[dd['Activity'].values==to_event].index \n",
    "    if not idx2.any():\n",
    "        idx2=dd[dd['Activity'].values=='O_Sent (online only)'].index\n",
    "    if not idx2.any():\n",
    "        idx2=dd[dd['Activity'].values=='O_Created'].index\n",
    "    from_to=from_to.append(test_KMeans[test_KMeans.index.isin (range(idx[0],idx2[0]+1))])"
   ]
  },
  {
   "cell_type": "code",
   "execution_count": 122,
   "metadata": {
    "scrolled": true
   },
   "outputs": [],
   "source": [
    "# events from '''''''  to '''''''\n",
    "#if not: from_event=A_Create Application\n",
    "\n",
    "from_event= 'A_Validating'\n",
    "\n",
    "to_event  = 'A_Pending'\n",
    "\n",
    "#from_to=pd.DataFrame(columns=test_KMeans.columns)\n",
    "#idx=dd[dd['Activity'].values==from_event].index\n",
    "#idx2=dd[dd['Activity'].values==to_event].index  \n",
    "#cd=test_KMeans[test_KMeans.index.isin (range(idx[0],idx2[0]+1))]\n",
    "\n",
    "for i in test_cases_KMeans:\n",
    "    dd=test_KMeans[test_KMeans['Case ID']==i]\n",
    "    idx=dd[dd['Activity'].values==from_event].index\n",
    "    if not idx.any():\n",
    "        idx=dd[dd['Activity'].values=='W_Call after offers'].index\n",
    "    if not idx.any():\n",
    "        idx=dd[dd['Activity'].values=='W_Complete application'].index\n",
    "        \n",
    "    if not idx.any():\n",
    "        idx=dd[dd['Activity'].values=='W_Shortened completion'].index    \n",
    "    \n",
    "    idx2=dd[dd['Activity'].values==to_event].index \n",
    "    if not idx2.any():\n",
    "        idx2=dd[dd['Activity'].values=='A_Denied'].index\n",
    "    if not idx2.any():\n",
    "        idx2=dd[dd['Activity'].values=='A_Cancelled'].index\n",
    "    if not (idx2.any()and idx.any()):\n",
    "        continue\n",
    "    if not idx2.any():\n",
    "        idx2=[dd.index.max()]\n",
    "    from_to=from_to.append(test_KMeans[test_KMeans.index.isin (range(idx[0],idx2[0]+1))])"
   ]
  },
  {
   "cell_type": "code",
   "execution_count": 28,
   "metadata": {},
   "outputs": [],
   "source": [
    "n_events.index=range(0,len(n_events))"
   ]
  },
  {
   "cell_type": "code",
   "execution_count": 29,
   "metadata": {},
   "outputs": [
    {
     "data": {
      "text/plain": [
       "65360"
      ]
     },
     "execution_count": 29,
     "metadata": {},
     "output_type": "execute_result"
    }
   ],
   "source": [
    "len(n_events)"
   ]
  },
  {
   "cell_type": "markdown",
   "metadata": {},
   "source": [
    "# ============ end skip"
   ]
  },
  {
   "cell_type": "code",
   "execution_count": 9,
   "metadata": {
    "scrolled": true
   },
   "outputs": [
    {
     "name": "stdout",
     "output_type": "stream",
     "text": [
      "  1684  579  1240  1715  171  317\n"
     ]
    }
   ],
   "source": [
    "# predict for test set (assign each trace to the closest cluster and predict outcome using the corresponding classifier)\n",
    "preds = model.predict_proba(test_KMeans )"
   ]
  },
  {
   "cell_type": "code",
   "execution_count": 10,
   "metadata": {},
   "outputs": [
    {
     "data": {
      "image/png": "[encoded data removed]",
      "text/plain": [
       "<Figure size 432x288 with 1 Axes>"
      ]
     },
     "metadata": {},
     "output_type": "display_data"
    },
    {
     "data": {
      "image/png": "[encoded data removed]",
      "text/plain": [
       "<Figure size 432x288 with 1 Axes>"
      ]
     },
     "metadata": {},
     "output_type": "display_data"
    },
    {
     "data": {
      "image/png": "[encoded data removed]",
      "text/plain": [
       "<Figure size 432x288 with 1 Axes>"
      ]
     },
     "metadata": {},
     "output_type": "display_data"
    }
   ],
   "source": [
    "import sklearn.metrics as met\n",
    "from sklearn.metrics import roc_curve, auc\n",
    "import matplotlib.pyplot as plt\n",
    "\n",
    "# Compute ROC curve and ROC area for each class\n",
    "fpr = dict()\n",
    "tpr = dict()\n",
    "th=dict()\n",
    "roc_auc = dict()\n",
    "for i in range(3):\n",
    "    fpr[i], tpr[i],th[i] = met.roc_curve(model.actual[model.actual.columns.values[i+1]],preds[preds.columns.values[i+1]])\n",
    "    roc_auc[i] = auc(fpr[i], tpr[i])\n",
    "\n",
    "for i in range(3):\n",
    "    plt.figure()\n",
    "    lw = i\n",
    "    plt.plot(fpr[i], tpr[i], color='darkorange',\n",
    "             lw=2, label='ROC curve (area = %0.2f)' % roc_auc[i])\n",
    "    plt.plot([0, 1], [0, 1], color='navy', lw=2, linestyle='--')\n",
    "    plt.xlim([0.0, 1.0])\n",
    "    plt.ylim([0.0, 1.05])\n",
    "    plt.xlabel('False Positive Rate')\n",
    "    plt.ylabel('True Positive Rate')\n",
    "    plt.title('Receiver operating characteristic %r' %model.actual.columns.values[i+1])\n",
    "    plt.legend(loc=\"lower right\")\n",
    "    plt.show()"
   ]
  },
  {
   "cell_type": "markdown",
   "metadata": {},
   "source": [
    "# Resalts"
   ]
  },
  {
   "cell_type": "code",
   "execution_count": 38,
   "metadata": {},
   "outputs": [],
   "source": [
    "# KMeans start predicting the outcome correctely begining by n_events = 11 activities.\n",
    "\n",
    "# KMeans doesn't able to predict the outcome when the request present the system fault from 'A_Submitted' to 'A_Accepted'.\n",
    "# KMeans doesn't able to predict the outcome when the request present the system fault from 'A_Accepted' to O_Sent.\n",
    "# KMeqns can predect outcome in an acceptable rate when the request present the system fault from'A_Validating' to desision.\n",
    "\n",
    "# KMeans shows a good rate to estimate outcome by feading model in a system delay activities.\n",
    "\n",
    "# More the activities in the trace, more prediction precies since the clustering depends on activities weights\n",
    "\n",
    "# 81% avg correct prediction by three classes for test data AP=230 AD=230 AC=230 tot=960\n"
   ]
  },
  {
   "cell_type": "markdown",
   "metadata": {},
   "source": [
    "# End,"
   ]
  },
  {
   "cell_type": "code",
   "execution_count": 39,
   "metadata": {
    "scrolled": true
   },
   "outputs": [
    {
     "data": {
      "text/html": [
       "<div>\n",
       "<style scoped>\n",
       "    .dataframe tbody tr th:only-of-type {\n",
       "        vertical-align: middle;\n",
       "    }\n",
       "\n",
       "    .dataframe tbody tr th {\n",
       "        vertical-align: top;\n",
       "    }\n",
       "\n",
       "    .dataframe thead th {\n",
       "        text-align: right;\n",
       "    }\n",
       "</style>\n",
       "<table border=\"1\" class=\"dataframe\">\n",
       "  <thead>\n",
       "    <tr style=\"text-align: right;\">\n",
       "      <th></th>\n",
       "      <th>Case ID</th>\n",
       "      <th>A_Cancelled</th>\n",
       "      <th>A_Denied</th>\n",
       "      <th>A_Pending</th>\n",
       "    </tr>\n",
       "  </thead>\n",
       "  <tbody>\n",
       "    <tr>\n",
       "      <th>0</th>\n",
       "      <td>Application_821425679</td>\n",
       "      <td>0</td>\n",
       "      <td>0</td>\n",
       "      <td>1</td>\n",
       "    </tr>\n",
       "  </tbody>\n",
       "</table>\n",
       "</div>"
      ],
      "text/plain": [
       "                 Case ID  A_Cancelled  A_Denied  A_Pending\n",
       "0  Application_821425679            0         0          1"
      ]
     },
     "execution_count": 39,
     "metadata": {},
     "output_type": "execute_result"
    }
   ],
   "source": [
    "model.actual[0:1]"
   ]
  },
  {
   "cell_type": "code",
   "execution_count": 40,
   "metadata": {},
   "outputs": [
    {
     "data": {
      "text/html": [
       "<div>\n",
       "<style scoped>\n",
       "    .dataframe tbody tr th:only-of-type {\n",
       "        vertical-align: middle;\n",
       "    }\n",
       "\n",
       "    .dataframe tbody tr th {\n",
       "        vertical-align: top;\n",
       "    }\n",
       "\n",
       "    .dataframe thead th {\n",
       "        text-align: right;\n",
       "    }\n",
       "</style>\n",
       "<table border=\"1\" class=\"dataframe\">\n",
       "  <thead>\n",
       "    <tr style=\"text-align: right;\">\n",
       "      <th></th>\n",
       "      <th>Case ID</th>\n",
       "      <th>A_Cancelled</th>\n",
       "      <th>A_Denied</th>\n",
       "      <th>A_Pending</th>\n",
       "    </tr>\n",
       "  </thead>\n",
       "  <tbody>\n",
       "    <tr>\n",
       "      <th>0</th>\n",
       "      <td>Application_1004303396</td>\n",
       "      <td>0.0</td>\n",
       "      <td>0.0</td>\n",
       "      <td>1.0</td>\n",
       "    </tr>\n",
       "  </tbody>\n",
       "</table>\n",
       "</div>"
      ],
      "text/plain": [
       "                  Case ID  A_Cancelled  A_Denied  A_Pending\n",
       "0  Application_1004303396          0.0       0.0        1.0"
      ]
     },
     "execution_count": 40,
     "metadata": {},
     "output_type": "execute_result"
    }
   ],
   "source": [
    "preds[0:1]"
   ]
  },
  {
   "cell_type": "code",
   "execution_count": 55,
   "metadata": {},
   "outputs": [],
   "source": [
    "h='A_Denied'\n",
    "uc=test_KMeans[test_KMeans['lbl']==h]['Case ID'].unique()\n",
    "AD=test_KMeans[test_KMeans['Case ID'].isin(uc)][0:230]\n",
    "h='A_Cancelled'\n",
    "uc=test_KMeans[test_KMeans['lbl']==h]['Case ID'].unique()\n",
    "AC=test_KMeans[test_KMeans['Case ID'].isin(uc)][0:230]\n",
    "h='A_Pending'\n",
    "uc=test_KMeans[test_KMeans['lbl']==h]['Case ID'].unique()\n",
    "AP=test_KMeans[test_KMeans['Case ID'].isin(uc)][0:230]\n",
    "AC=pd.concat([AC,AP],axis=0)\n",
    "AC=pd.concat([AC,AD],axis=0)"
   ]
  },
  {
   "cell_type": "code",
   "execution_count": 57,
   "metadata": {},
   "outputs": [],
   "source": [
    "test_KMeans=AC"
   ]
  },
  {
   "cell_type": "code",
   "execution_count": 59,
   "metadata": {},
   "outputs": [],
   "source": [
    "test_cases_KMeans=test_KMeans['Case ID'].unique()"
   ]
  },
  {
   "cell_type": "code",
   "execution_count": 127,
   "metadata": {},
   "outputs": [
    {
     "data": {
      "text/plain": [
       "(690, 6)"
      ]
     },
     "execution_count": 127,
     "metadata": {},
     "output_type": "execute_result"
    }
   ],
   "source": [
    "test_KMeans.shape"
   ]
  },
  {
   "cell_type": "code",
   "execution_count": null,
   "metadata": {},
   "outputs": [],
   "source": []
  }
 ],
 "metadata": {
  "kernelspec": {
   "display_name": "Python 3",
   "language": "python",
   "name": "python3"
  },
  "language_info": {
   "codemirror_mode": {
    "name": "ipython",
    "version": 3
   },
   "file_extension": ".py",
   "mimetype": "text/x-python",
   "name": "python",
   "nbconvert_exporter": "python",
   "pygments_lexer": "ipython3",
   "version": "3.5.4"
  }
 },
 "nbformat": 4,
 "nbformat_minor": 2
}
